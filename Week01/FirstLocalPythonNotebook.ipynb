{
 "cells": [
  {
   "cell_type": "code",
   "execution_count": null,
   "metadata": {},
   "outputs": [],
   "source": [
    "# First local .ipynb file"
   ]
  }
 ],
 "metadata": {
  "kernelspec": {
   "display_name": "Python 3.9.7 ('base')",
   "language": "python",
   "name": "python3"
  },
  "language_info": {
   "name": "python",
   "version": "3.9.7"
  },
  "orig_nbformat": 4,
  "vscode": {
   "interpreter": {
    "hash": "e40161e1fb739a8b86dfd3737f1d1d2a1d56767b48515edd89c854b4bdfb263a"
   }
  }
 },
 "nbformat": 4,
 "nbformat_minor": 2
}
