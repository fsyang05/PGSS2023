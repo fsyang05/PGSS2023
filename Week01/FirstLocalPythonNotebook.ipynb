{
 "cells": [
  {
   "cell_type": "code",
   "execution_count": null,
   "metadata": {},
   "outputs": [],
   "source": [
    "import pandas as pd\n",
    "iris_df = pd.read_csv(\"C:/Users/fsyan/OneDrive/Desktop/Main/PGSS/CS Lab/Week1/iris.csv\", header=None)\n",
    "iris_df.columns  = [\"Sepal.Width\",\"Sepal.Length\",\"Petal.Width\",\"Petal.Length\",\"Species\"]\n",
    "iris_df.head()"
   ]
  },
  {
   "cell_type": "code",
   "execution_count": null,
   "metadata": {},
   "outputs": [],
   "source": [
    "iris_df.info()"
   ]
  },
  {
   "cell_type": "code",
   "execution_count": null,
   "metadata": {},
   "outputs": [],
   "source": [
    "iris_df['Species'].value_counts()"
   ]
  },
  {
   "cell_type": "code",
   "execution_count": null,
   "metadata": {},
   "outputs": [],
   "source": [
    "# Create a boxplot to describe the average sepal length of each species of iris\n",
    "from matplotlib import pyplot as plt\n",
    "import seaborn as sns\n",
    "# sns.barplot(x=\"Species\", y=\"Sepal.Length\", data=iris_df)\n",
    "\n",
    "sns.boxplot(y=\"Species\", x=\"Sepal.Length\", data=iris_df, width=0.3)"
   ]
  }
 ],
 "metadata": {
  "kernelspec": {
   "display_name": "Python 3.9.7 ('base')",
   "language": "python",
   "name": "python3"
  },
  "language_info": {
   "name": "python",
   "version": "3.9.7"
  },
  "orig_nbformat": 4,
  "vscode": {
   "interpreter": {
    "hash": "e40161e1fb739a8b86dfd3737f1d1d2a1d56767b48515edd89c854b4bdfb263a"
   }
  }
 },
 "nbformat": 4,
 "nbformat_minor": 2
}
