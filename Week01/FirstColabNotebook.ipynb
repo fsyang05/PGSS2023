{
  "cells": [
    {
      "cell_type": "markdown",
      "metadata": {
        "id": "Osna3t9M16ud"
      },
      "source": [
        "# Mounting Google drive"
      ]
    },
    {
      "cell_type": "code",
      "execution_count": 5,
      "metadata": {
        "colab": {
          "base_uri": "https://localhost:8080/"
        },
        "id": "67i04fhhvNSg",
        "outputId": "55876334-f603-4a12-be79-ea15d0548bd5"
      },
      "outputs": [
        {
          "ename": "ModuleNotFoundError",
          "evalue": "No module named 'google'",
          "output_type": "error",
          "traceback": [
            "\u001b[1;31m---------------------------------------------------------------------------\u001b[0m",
            "\u001b[1;31mModuleNotFoundError\u001b[0m                       Traceback (most recent call last)",
            "Cell \u001b[1;32mIn[5], line 1\u001b[0m\n\u001b[1;32m----> 1\u001b[0m \u001b[39mfrom\u001b[39;00m \u001b[39mgoogle\u001b[39;00m\u001b[39m.\u001b[39;00m\u001b[39mcolab\u001b[39;00m \u001b[39mimport\u001b[39;00m drive\n\u001b[0;32m      2\u001b[0m drive\u001b[39m.\u001b[39mmount(\u001b[39m'\u001b[39m\u001b[39m/content/gdrive\u001b[39m\u001b[39m'\u001b[39m, force_remount\u001b[39m=\u001b[39m\u001b[39mTrue\u001b[39;00m)\n",
            "\u001b[1;31mModuleNotFoundError\u001b[0m: No module named 'google'"
          ]
        }
      ],
      "source": [
        "from google.colab import drive\n",
        "drive.mount('/content/gdrive', force_remount=True)"
      ]
    },
    {
      "cell_type": "markdown",
      "metadata": {
        "id": "zlCGcRT42AfU"
      },
      "source": [
        "#Importing first .csv file"
      ]
    },
    {
      "cell_type": "code",
      "execution_count": 1,
      "metadata": {
        "colab": {
          "base_uri": "https://localhost:8080/",
          "height": 423
        },
        "id": "isVPOmkayad6",
        "outputId": "87fe94bc-3b7e-42b6-968b-5f05b6628e17"
      },
      "outputs": [
        {
          "ename": "ModuleNotFoundError",
          "evalue": "No module named 'pandas'",
          "output_type": "error",
          "traceback": [
            "\u001b[1;31m---------------------------------------------------------------------------\u001b[0m",
            "\u001b[1;31mModuleNotFoundError\u001b[0m                       Traceback (most recent call last)",
            "Cell \u001b[1;32mIn[1], line 1\u001b[0m\n\u001b[1;32m----> 1\u001b[0m \u001b[39mimport\u001b[39;00m \u001b[39mpandas\u001b[39;00m \u001b[39mas\u001b[39;00m \u001b[39mpd\u001b[39;00m\n\u001b[0;32m      2\u001b[0m df \u001b[39m=\u001b[39m pd\u001b[39m.\u001b[39mread_csv(\u001b[39m\"\u001b[39m\u001b[39m/content/gdrive/MyDrive/PGSS2023/Week 1/Week01/iris.csv\u001b[39m\u001b[39m\"\u001b[39m, header\u001b[39m=\u001b[39m\u001b[39mNone\u001b[39;00m)\n\u001b[0;32m      4\u001b[0m df\u001b[39m.\u001b[39mcolumns \u001b[39m=\u001b[39m (\u001b[39m\"\u001b[39m\u001b[39mPetal.Length\u001b[39m\u001b[39m\"\u001b[39m, \u001b[39m\"\u001b[39m\u001b[39mPetal.Width\u001b[39m\u001b[39m\"\u001b[39m, \u001b[39m\"\u001b[39m\u001b[39mSepal.Length\u001b[39m\u001b[39m\"\u001b[39m, \u001b[39m\"\u001b[39m\u001b[39mSepal.Width\u001b[39m\u001b[39m\"\u001b[39m, \u001b[39m\"\u001b[39m\u001b[39mSpecies\u001b[39m\u001b[39m\"\u001b[39m)\n",
            "\u001b[1;31mModuleNotFoundError\u001b[0m: No module named 'pandas'"
          ]
        }
      ],
      "source": [
        "import pandas as pd\n",
        "df = pd.read_csv(\"/content/gdrive/MyDrive/PGSS2023/Week 1/Week01/iris.csv\", header=None)\n",
        "\n",
        "df.columns = (\"Petal.Length\", \"Petal.Width\", \"Sepal.Length\", \"Sepal.Width\", \"Species\")\n",
        "df"
      ]
    },
    {
      "cell_type": "code",
      "execution_count": null,
      "metadata": {},
      "outputs": [],
      "source": [
        "df['Species'].value_counts()"
      ]
    },
    {
      "cell_type": "code",
      "execution_count": null,
      "metadata": {},
      "outputs": [],
      "source": [
        "# Create a boxplot to describe the average sepal length of each species of iris\n",
        "from matplotlib import pyplot as plt\n",
        "import seaborn as sns\n",
        "# sns.barplot(x=\"Species\", y=\"Sepal.Length\", data=iris_df)\n",
        "\n",
        "sns.boxplot(y=\"Species\", x=\"Sepal.Length\", data=df, width=0.3)"
      ]
    },
    {
      "cell_type": "markdown",
      "metadata": {
        "id": "1ZbSFXPN2FoF"
      },
      "source": [
        "Reading data from Google sheets"
      ]
    },
    {
      "cell_type": "code",
      "execution_count": null,
      "metadata": {
        "colab": {
          "base_uri": "https://localhost:8080/"
        },
        "id": "QZW2jw5X1x_e",
        "outputId": "2f7fb4a7-d57f-4003-8b12-961c4e3c5dfc"
      },
      "outputs": [
        {
          "name": "stdout",
          "output_type": "stream",
          "text": [
            "<class 'gspread.models.Worksheet'>\n"
          ]
        }
      ],
      "source": [
        "# https://docs.google.com/spreadsheets/d/1VK-Zs72ebK6ddwvDYFN2cA04PDTbVLXJeylmdJ7OxkM/edit#gid=0\n",
        "\n",
        "from google.colab import auth\n",
        "auth.authenticate_user()\n",
        "\n",
        "import gspread\n",
        "from google.auth import default\n",
        "creds, _ = default()\n",
        "\n",
        "gc = gspread.authorize(creds)\n",
        "\n",
        "worksheet = gc.open('PGSS2023').sheet1\n",
        "\n",
        "# get_all_values gives a list of rows.\n",
        "rows = worksheet.get_all_values()\n",
        "print(rows)"
      ]
    },
    {
      "cell_type": "code",
      "execution_count": null,
      "metadata": {
        "id": "blngz_ko2-3y"
      },
      "outputs": [],
      "source": [
        "# Convert to a DataFrame and render\n",
        "\n",
        "df2 = pd.DataFrame.from_records(rows[1:])\n",
        "df2.columns = rows[0]\n",
        "df2"
      ]
    },
    {
      "cell_type": "code",
      "execution_count": null,
      "metadata": {
        "colab": {
          "base_uri": "https://localhost:8080/"
        },
        "id": "tvdPQZs73JUp",
        "outputId": "425f4cca-505b-4347-8c34-983691df685f"
      },
      "outputs": [
        {
          "data": {
            "text/plain": [
              "0       ParthParikh04\n",
              "1      SoorajTharumia\n",
              "2                    \n",
              "3            DPnimo11\n",
              "4            fsyang05\n",
              "5       SavagePancake\n",
              "6           BenjieN07\n",
              "7            cmuedmei\n",
              "8         bwitishjack\n",
              "9     lihiniranaweera\n",
              "10              KCvdH\n",
              "11      carterrrogers\n",
              "12             yanwe1\n",
              "13           izmunsta\n",
              "14              olimu\n",
              "15       kamya-rajesh\n",
              "16          piginpink\n",
              "17        John-Beeson\n",
              "18                   \n",
              "19         antonytomy\n",
              "20     krystofpurtell\n",
              "21           superpi2\n",
              "Name: Github, dtype: object"
            ]
          },
          "execution_count": 27,
          "metadata": {},
          "output_type": "execute_result"
        }
      ],
      "source": [
        "# slicing out first name / last name\n",
        "\n",
        "df2.iloc[0:, 0:2]\n",
        "\n",
        "# slicing out Github usernames\n",
        "\n",
        "df2.iloc[:, 3]"
      ]
    },
    {
      "cell_type": "code",
      "execution_count": null,
      "metadata": {},
      "outputs": [],
      "source": [
        "from matplotlib import pyplot as plt\n",
        "import seaborn as sns"
      ]
    }
  ],
  "metadata": {
    "colab": {
      "provenance": []
    },
    "kernelspec": {
      "display_name": "Python 3.9.7 ('base')",
      "language": "python",
      "name": "python3"
    },
    "language_info": {
      "codemirror_mode": {
        "name": "ipython",
        "version": 3
      },
      "file_extension": ".py",
      "mimetype": "text/x-python",
      "name": "python",
      "nbconvert_exporter": "python",
      "pygments_lexer": "ipython3",
      "version": "3.11.4"
    },
    "vscode": {
      "interpreter": {
        "hash": "e40161e1fb739a8b86dfd3737f1d1d2a1d56767b48515edd89c854b4bdfb263a"
      }
    }
  },
  "nbformat": 4,
  "nbformat_minor": 0
}
